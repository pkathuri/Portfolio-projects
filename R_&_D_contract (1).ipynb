{
  "nbformat": 4,
  "nbformat_minor": 0,
  "metadata": {
    "colab": {
      "provenance": []
    },
    "kernelspec": {
      "name": "python3",
      "display_name": "Python 3"
    },
    "language_info": {
      "name": "python"
    }
  },
  "cells": [
    {
      "cell_type": "markdown",
      "source": [
        "**Background**"
      ],
      "metadata": {
        "id": "m1znNpVz8eji"
      }
    },
    {
      "cell_type": "markdown",
      "source": [
        "In broad terms, Sea State is made up of three components that describe how a sea is affected by the action of wind and weather, whether that has been created by localised events (waves) or by wind that occurred far from where the sea is being measured (swell)\n",
        "\n",
        "\n",
        "\n",
        "The three components are:\n",
        "\n",
        "\n",
        "\n",
        "**Significant wave height (Hs)**\n",
        "\n",
        "As the sea is normally made up of many different types and sizes of waves and swell, a convention is to take an average of the highest 1/3 of the waves present and use that to describe the sea.\n",
        "\n",
        "\n",
        "\n",
        "**Wave Frequency or Period**\n",
        "\n",
        "The next part of sea state is wave frequency and is a measure of how long it takes for the peaks of a wave to pass a given point (or the distance between them if using wave length)\n",
        "This wave frequency is different when being measured by a moving platform (ie a boat) where it becomes an “encounter frequency”. This will vary from the actual frequency taking into account the speed of the vessel and the angle to the waves that it is travelling.\n",
        "\n",
        "\n",
        "\n",
        "**Wave Direction**\n",
        "\n",
        "The last part of the Sea State information is the direction that the waves are coming from. In our data, it is a relative (to the boat) direction. By convention if a ship is heading directly into a sea, the direction is given a 180 deg. If the waves are following the boat it is 0 degrees. Waves coming from the right side of a boat are said to be at 90 deg and from the left 270 deg.\n",
        "\n",
        "\n",
        "\n",
        "**Putting it all together**\n",
        "\n",
        "A typical sea might be described as having a 3 m South Westerly swell with an 11 second period., with 1.5 metres waves from the North.\n",
        "You can check this out via marine forecast sites.\n",
        "\n",
        "\n",
        "\n",
        "**Our data**\n",
        "\n",
        "Our data has been captured using a 6 axis accelerometer which captures the three translational forces, X, Y and Z and the three rotational forces around each of those.\n",
        "We have captured data in a wave model basin at a Maritime College where only one wave and period are generated. We have then driven a model boat around in the basin capturing data.\n",
        "\n",
        "\n",
        "**Plan**\n",
        "\n",
        "Our plan is to use Machine Learning Algorithms to estimate wave height, Period and relative direction from this data"
      ],
      "metadata": {
        "id": "y7nVemOp8ovq"
      }
    },
    {
      "cell_type": "code",
      "source": [
        "import numpy as np\n",
        "import pandas as pd\n",
        "import matplotlib.pyplot as plt\n",
        "import seaborn as sns\n",
        "pd.set_option('display.max_rows', None)  # Display all rows\n",
        "pd.set_option('display.max_columns', None)  # Display all columns\n",
        "df=pd.read_csv('/content/drive/MyDrive/DataForTest (2).csv')\n",
        "df.head()"
      ],
      "metadata": {
        "colab": {
          "base_uri": "https://localhost:8080/",
          "height": 206
        },
        "id": "_najFpyVGXtn",
        "outputId": "c38b1423-d035-4971-8752-6514b813b954"
      },
      "execution_count": null,
      "outputs": [
        {
          "output_type": "execute_result",
          "data": {
            "text/plain": [
              "    timestamp                  date_time  df_time_stamp      calx      caly  \\\n",
              "0  1669334967  2022-11-2511:09:27.126814       0.000021  0.003736 -0.193393   \n",
              "1  1669334967  2022-11-2511:09:27.147197       0.020407 -0.001064 -0.211293   \n",
              "2  1669334967  2022-11-2511:09:27.164467       0.037675  0.007336 -0.207693   \n",
              "3  1669334967  2022-11-2511:09:27.180512       0.053719 -0.006964 -0.200593   \n",
              "4  1669334967  2022-11-2511:09:27.196491       0.069698 -0.002264 -0.172993   \n",
              "\n",
              "       calz  calgyrox  calgyroy  calgyroz  \n",
              "0  0.016032  0.026505  0.003688 -0.009217  \n",
              "1  0.011232  0.030505  0.003488 -0.009317  \n",
              "2  0.006532  0.034905  0.003088 -0.009617  \n",
              "3  0.008832  0.038305  0.004288 -0.010617  \n",
              "4  0.022032  0.043005  0.003788 -0.010617  "
            ],
            "text/html": [
              "\n",
              "  <div id=\"df-9c53d151-5660-4632-a1d0-b9926a1ed0f6\">\n",
              "    <div class=\"colab-df-container\">\n",
              "      <div>\n",
              "<style scoped>\n",
              "    .dataframe tbody tr th:only-of-type {\n",
              "        vertical-align: middle;\n",
              "    }\n",
              "\n",
              "    .dataframe tbody tr th {\n",
              "        vertical-align: top;\n",
              "    }\n",
              "\n",
              "    .dataframe thead th {\n",
              "        text-align: right;\n",
              "    }\n",
              "</style>\n",
              "<table border=\"1\" class=\"dataframe\">\n",
              "  <thead>\n",
              "    <tr style=\"text-align: right;\">\n",
              "      <th></th>\n",
              "      <th>timestamp</th>\n",
              "      <th>date_time</th>\n",
              "      <th>df_time_stamp</th>\n",
              "      <th>calx</th>\n",
              "      <th>caly</th>\n",
              "      <th>calz</th>\n",
              "      <th>calgyrox</th>\n",
              "      <th>calgyroy</th>\n",
              "      <th>calgyroz</th>\n",
              "    </tr>\n",
              "  </thead>\n",
              "  <tbody>\n",
              "    <tr>\n",
              "      <th>0</th>\n",
              "      <td>1669334967</td>\n",
              "      <td>2022-11-2511:09:27.126814</td>\n",
              "      <td>0.000021</td>\n",
              "      <td>0.003736</td>\n",
              "      <td>-0.193393</td>\n",
              "      <td>0.016032</td>\n",
              "      <td>0.026505</td>\n",
              "      <td>0.003688</td>\n",
              "      <td>-0.009217</td>\n",
              "    </tr>\n",
              "    <tr>\n",
              "      <th>1</th>\n",
              "      <td>1669334967</td>\n",
              "      <td>2022-11-2511:09:27.147197</td>\n",
              "      <td>0.020407</td>\n",
              "      <td>-0.001064</td>\n",
              "      <td>-0.211293</td>\n",
              "      <td>0.011232</td>\n",
              "      <td>0.030505</td>\n",
              "      <td>0.003488</td>\n",
              "      <td>-0.009317</td>\n",
              "    </tr>\n",
              "    <tr>\n",
              "      <th>2</th>\n",
              "      <td>1669334967</td>\n",
              "      <td>2022-11-2511:09:27.164467</td>\n",
              "      <td>0.037675</td>\n",
              "      <td>0.007336</td>\n",
              "      <td>-0.207693</td>\n",
              "      <td>0.006532</td>\n",
              "      <td>0.034905</td>\n",
              "      <td>0.003088</td>\n",
              "      <td>-0.009617</td>\n",
              "    </tr>\n",
              "    <tr>\n",
              "      <th>3</th>\n",
              "      <td>1669334967</td>\n",
              "      <td>2022-11-2511:09:27.180512</td>\n",
              "      <td>0.053719</td>\n",
              "      <td>-0.006964</td>\n",
              "      <td>-0.200593</td>\n",
              "      <td>0.008832</td>\n",
              "      <td>0.038305</td>\n",
              "      <td>0.004288</td>\n",
              "      <td>-0.010617</td>\n",
              "    </tr>\n",
              "    <tr>\n",
              "      <th>4</th>\n",
              "      <td>1669334967</td>\n",
              "      <td>2022-11-2511:09:27.196491</td>\n",
              "      <td>0.069698</td>\n",
              "      <td>-0.002264</td>\n",
              "      <td>-0.172993</td>\n",
              "      <td>0.022032</td>\n",
              "      <td>0.043005</td>\n",
              "      <td>0.003788</td>\n",
              "      <td>-0.010617</td>\n",
              "    </tr>\n",
              "  </tbody>\n",
              "</table>\n",
              "</div>\n",
              "      <button class=\"colab-df-convert\" onclick=\"convertToInteractive('df-9c53d151-5660-4632-a1d0-b9926a1ed0f6')\"\n",
              "              title=\"Convert this dataframe to an interactive table.\"\n",
              "              style=\"display:none;\">\n",
              "        \n",
              "  <svg xmlns=\"http://www.w3.org/2000/svg\" height=\"24px\"viewBox=\"0 0 24 24\"\n",
              "       width=\"24px\">\n",
              "    <path d=\"M0 0h24v24H0V0z\" fill=\"none\"/>\n",
              "    <path d=\"M18.56 5.44l.94 2.06.94-2.06 2.06-.94-2.06-.94-.94-2.06-.94 2.06-2.06.94zm-11 1L8.5 8.5l.94-2.06 2.06-.94-2.06-.94L8.5 2.5l-.94 2.06-2.06.94zm10 10l.94 2.06.94-2.06 2.06-.94-2.06-.94-.94-2.06-.94 2.06-2.06.94z\"/><path d=\"M17.41 7.96l-1.37-1.37c-.4-.4-.92-.59-1.43-.59-.52 0-1.04.2-1.43.59L10.3 9.45l-7.72 7.72c-.78.78-.78 2.05 0 2.83L4 21.41c.39.39.9.59 1.41.59.51 0 1.02-.2 1.41-.59l7.78-7.78 2.81-2.81c.8-.78.8-2.07 0-2.86zM5.41 20L4 18.59l7.72-7.72 1.47 1.35L5.41 20z\"/>\n",
              "  </svg>\n",
              "      </button>\n",
              "      \n",
              "  <style>\n",
              "    .colab-df-container {\n",
              "      display:flex;\n",
              "      flex-wrap:wrap;\n",
              "      gap: 12px;\n",
              "    }\n",
              "\n",
              "    .colab-df-convert {\n",
              "      background-color: #E8F0FE;\n",
              "      border: none;\n",
              "      border-radius: 50%;\n",
              "      cursor: pointer;\n",
              "      display: none;\n",
              "      fill: #1967D2;\n",
              "      height: 32px;\n",
              "      padding: 0 0 0 0;\n",
              "      width: 32px;\n",
              "    }\n",
              "\n",
              "    .colab-df-convert:hover {\n",
              "      background-color: #E2EBFA;\n",
              "      box-shadow: 0px 1px 2px rgba(60, 64, 67, 0.3), 0px 1px 3px 1px rgba(60, 64, 67, 0.15);\n",
              "      fill: #174EA6;\n",
              "    }\n",
              "\n",
              "    [theme=dark] .colab-df-convert {\n",
              "      background-color: #3B4455;\n",
              "      fill: #D2E3FC;\n",
              "    }\n",
              "\n",
              "    [theme=dark] .colab-df-convert:hover {\n",
              "      background-color: #434B5C;\n",
              "      box-shadow: 0px 1px 3px 1px rgba(0, 0, 0, 0.15);\n",
              "      filter: drop-shadow(0px 1px 2px rgba(0, 0, 0, 0.3));\n",
              "      fill: #FFFFFF;\n",
              "    }\n",
              "  </style>\n",
              "\n",
              "      <script>\n",
              "        const buttonEl =\n",
              "          document.querySelector('#df-9c53d151-5660-4632-a1d0-b9926a1ed0f6 button.colab-df-convert');\n",
              "        buttonEl.style.display =\n",
              "          google.colab.kernel.accessAllowed ? 'block' : 'none';\n",
              "\n",
              "        async function convertToInteractive(key) {\n",
              "          const element = document.querySelector('#df-9c53d151-5660-4632-a1d0-b9926a1ed0f6');\n",
              "          const dataTable =\n",
              "            await google.colab.kernel.invokeFunction('convertToInteractive',\n",
              "                                                     [key], {});\n",
              "          if (!dataTable) return;\n",
              "\n",
              "          const docLinkHtml = 'Like what you see? Visit the ' +\n",
              "            '<a target=\"_blank\" href=https://colab.research.google.com/notebooks/data_table.ipynb>data table notebook</a>'\n",
              "            + ' to learn more about interactive tables.';\n",
              "          element.innerHTML = '';\n",
              "          dataTable['output_type'] = 'display_data';\n",
              "          await google.colab.output.renderOutput(dataTable, element);\n",
              "          const docLink = document.createElement('div');\n",
              "          docLink.innerHTML = docLinkHtml;\n",
              "          element.appendChild(docLink);\n",
              "        }\n",
              "      </script>\n",
              "    </div>\n",
              "  </div>\n",
              "  "
            ]
          },
          "metadata": {},
          "execution_count": 4
        }
      ]
    },
    {
      "cell_type": "markdown",
      "source": [
        "**Exploratory Data Analysis**"
      ],
      "metadata": {
        "id": "xlwPfedOG2SC"
      }
    },
    {
      "cell_type": "code",
      "source": [
        "# Checking for the number of missing values in the dataset.\n",
        "df.isnull().sum()"
      ],
      "metadata": {
        "colab": {
          "base_uri": "https://localhost:8080/"
        },
        "id": "Juw5RXfPGyCv",
        "outputId": "5148e076-ade4-425f-ded3-6a913b9e7f8e"
      },
      "execution_count": null,
      "outputs": [
        {
          "output_type": "execute_result",
          "data": {
            "text/plain": [
              "timestamp        0\n",
              "date_time        0\n",
              "df_time_stamp    0\n",
              "calx             0\n",
              "caly             0\n",
              "calz             0\n",
              "calgyrox         0\n",
              "calgyroy         0\n",
              "calgyroz         0\n",
              "dtype: int64"
            ]
          },
          "metadata": {},
          "execution_count": 5
        }
      ]
    },
    {
      "cell_type": "markdown",
      "source": [
        "This data has got no missing values hence it is suitable for further analysis"
      ],
      "metadata": {
        "id": "WOoR-hPvQKdG"
      }
    },
    {
      "cell_type": "code",
      "source": [
        "# Dropping some columns that may not be of great importance to coming up with the measurements\n",
        "df=df.drop(['timestamp','date_time'],axis=1)"
      ],
      "metadata": {
        "id": "MeSyjRTuHYbS"
      },
      "execution_count": null,
      "outputs": []
    },
    {
      "cell_type": "code",
      "source": [
        "# Checking for the data types of each column\n",
        "df.info()"
      ],
      "metadata": {
        "colab": {
          "base_uri": "https://localhost:8080/"
        },
        "id": "Oku1rDc1Pgz6",
        "outputId": "b4f42a96-29e4-4ab4-d8aa-bbacde74f6e3"
      },
      "execution_count": null,
      "outputs": [
        {
          "output_type": "stream",
          "name": "stdout",
          "text": [
            "<class 'pandas.core.frame.DataFrame'>\n",
            "RangeIndex: 34621 entries, 0 to 34620\n",
            "Data columns (total 7 columns):\n",
            " #   Column         Non-Null Count  Dtype  \n",
            "---  ------         --------------  -----  \n",
            " 0   df_time_stamp  34621 non-null  float64\n",
            " 1   calx           34621 non-null  float64\n",
            " 2   caly           34621 non-null  float64\n",
            " 3   calz           34621 non-null  float64\n",
            " 4   calgyrox       34621 non-null  float64\n",
            " 5   calgyroy       34621 non-null  float64\n",
            " 6   calgyroz       34621 non-null  float64\n",
            "dtypes: float64(7)\n",
            "memory usage: 1.8 MB\n"
          ]
        }
      ]
    },
    {
      "cell_type": "code",
      "source": [
        "# A statistical description of the variables important to the dataset\n",
        "df.describe()"
      ],
      "metadata": {
        "colab": {
          "base_uri": "https://localhost:8080/",
          "height": 300
        },
        "id": "-22GkFKGLMCS",
        "outputId": "ed241093-c1fc-4a5c-9048-ce597fc29abe"
      },
      "execution_count": null,
      "outputs": [
        {
          "output_type": "execute_result",
          "data": {
            "text/plain": [
              "       df_time_stamp          calx          caly          calz      calgyrox  \\\n",
              "count   34621.000000  3.462100e+04  3.462100e+04  3.462100e+04  3.462100e+04   \n",
              "mean      340.466412  4.721990e-10  3.134514e-10 -2.550764e-10  1.206782e-10   \n",
              "std       196.213763  2.771932e-01  7.158047e-01  4.816412e-01  2.130175e-01   \n",
              "min         0.000021 -1.151964e+00 -3.713193e+00 -1.880268e+00 -1.123995e+00   \n",
              "25%       171.320010 -6.326421e-02 -1.777926e-01 -9.996801e-02 -4.169526e-02   \n",
              "50%       340.919668 -6.964212e-03 -4.859259e-02  2.683199e-02 -9.530000e-05   \n",
              "75%       510.155347  5.763579e-02  1.895074e-01  9.503199e-02  4.470474e-02   \n",
              "max       679.529148  1.286336e+00  3.644707e+00  1.904032e+00  1.109005e+00   \n",
              "\n",
              "           calgyroy      calgyroz  \n",
              "count  3.462100e+04  3.462100e+04  \n",
              "mean  -4.499003e-10  3.593484e-10  \n",
              "std    1.306851e-01  1.174642e-01  \n",
              "min   -5.027119e-01 -4.095175e-01  \n",
              "25%   -2.581192e-02 -6.691746e-02  \n",
              "50%    1.888079e-03  2.328254e-02  \n",
              "75%    2.348808e-02  5.158254e-02  \n",
              "max    5.004881e-01  4.270825e-01  "
            ],
            "text/html": [
              "\n",
              "  <div id=\"df-ef990113-1e31-4fc9-a4c6-97a043bb0906\">\n",
              "    <div class=\"colab-df-container\">\n",
              "      <div>\n",
              "<style scoped>\n",
              "    .dataframe tbody tr th:only-of-type {\n",
              "        vertical-align: middle;\n",
              "    }\n",
              "\n",
              "    .dataframe tbody tr th {\n",
              "        vertical-align: top;\n",
              "    }\n",
              "\n",
              "    .dataframe thead th {\n",
              "        text-align: right;\n",
              "    }\n",
              "</style>\n",
              "<table border=\"1\" class=\"dataframe\">\n",
              "  <thead>\n",
              "    <tr style=\"text-align: right;\">\n",
              "      <th></th>\n",
              "      <th>df_time_stamp</th>\n",
              "      <th>calx</th>\n",
              "      <th>caly</th>\n",
              "      <th>calz</th>\n",
              "      <th>calgyrox</th>\n",
              "      <th>calgyroy</th>\n",
              "      <th>calgyroz</th>\n",
              "    </tr>\n",
              "  </thead>\n",
              "  <tbody>\n",
              "    <tr>\n",
              "      <th>count</th>\n",
              "      <td>34621.000000</td>\n",
              "      <td>3.462100e+04</td>\n",
              "      <td>3.462100e+04</td>\n",
              "      <td>3.462100e+04</td>\n",
              "      <td>3.462100e+04</td>\n",
              "      <td>3.462100e+04</td>\n",
              "      <td>3.462100e+04</td>\n",
              "    </tr>\n",
              "    <tr>\n",
              "      <th>mean</th>\n",
              "      <td>340.466412</td>\n",
              "      <td>4.721990e-10</td>\n",
              "      <td>3.134514e-10</td>\n",
              "      <td>-2.550764e-10</td>\n",
              "      <td>1.206782e-10</td>\n",
              "      <td>-4.499003e-10</td>\n",
              "      <td>3.593484e-10</td>\n",
              "    </tr>\n",
              "    <tr>\n",
              "      <th>std</th>\n",
              "      <td>196.213763</td>\n",
              "      <td>2.771932e-01</td>\n",
              "      <td>7.158047e-01</td>\n",
              "      <td>4.816412e-01</td>\n",
              "      <td>2.130175e-01</td>\n",
              "      <td>1.306851e-01</td>\n",
              "      <td>1.174642e-01</td>\n",
              "    </tr>\n",
              "    <tr>\n",
              "      <th>min</th>\n",
              "      <td>0.000021</td>\n",
              "      <td>-1.151964e+00</td>\n",
              "      <td>-3.713193e+00</td>\n",
              "      <td>-1.880268e+00</td>\n",
              "      <td>-1.123995e+00</td>\n",
              "      <td>-5.027119e-01</td>\n",
              "      <td>-4.095175e-01</td>\n",
              "    </tr>\n",
              "    <tr>\n",
              "      <th>25%</th>\n",
              "      <td>171.320010</td>\n",
              "      <td>-6.326421e-02</td>\n",
              "      <td>-1.777926e-01</td>\n",
              "      <td>-9.996801e-02</td>\n",
              "      <td>-4.169526e-02</td>\n",
              "      <td>-2.581192e-02</td>\n",
              "      <td>-6.691746e-02</td>\n",
              "    </tr>\n",
              "    <tr>\n",
              "      <th>50%</th>\n",
              "      <td>340.919668</td>\n",
              "      <td>-6.964212e-03</td>\n",
              "      <td>-4.859259e-02</td>\n",
              "      <td>2.683199e-02</td>\n",
              "      <td>-9.530000e-05</td>\n",
              "      <td>1.888079e-03</td>\n",
              "      <td>2.328254e-02</td>\n",
              "    </tr>\n",
              "    <tr>\n",
              "      <th>75%</th>\n",
              "      <td>510.155347</td>\n",
              "      <td>5.763579e-02</td>\n",
              "      <td>1.895074e-01</td>\n",
              "      <td>9.503199e-02</td>\n",
              "      <td>4.470474e-02</td>\n",
              "      <td>2.348808e-02</td>\n",
              "      <td>5.158254e-02</td>\n",
              "    </tr>\n",
              "    <tr>\n",
              "      <th>max</th>\n",
              "      <td>679.529148</td>\n",
              "      <td>1.286336e+00</td>\n",
              "      <td>3.644707e+00</td>\n",
              "      <td>1.904032e+00</td>\n",
              "      <td>1.109005e+00</td>\n",
              "      <td>5.004881e-01</td>\n",
              "      <td>4.270825e-01</td>\n",
              "    </tr>\n",
              "  </tbody>\n",
              "</table>\n",
              "</div>\n",
              "      <button class=\"colab-df-convert\" onclick=\"convertToInteractive('df-ef990113-1e31-4fc9-a4c6-97a043bb0906')\"\n",
              "              title=\"Convert this dataframe to an interactive table.\"\n",
              "              style=\"display:none;\">\n",
              "        \n",
              "  <svg xmlns=\"http://www.w3.org/2000/svg\" height=\"24px\"viewBox=\"0 0 24 24\"\n",
              "       width=\"24px\">\n",
              "    <path d=\"M0 0h24v24H0V0z\" fill=\"none\"/>\n",
              "    <path d=\"M18.56 5.44l.94 2.06.94-2.06 2.06-.94-2.06-.94-.94-2.06-.94 2.06-2.06.94zm-11 1L8.5 8.5l.94-2.06 2.06-.94-2.06-.94L8.5 2.5l-.94 2.06-2.06.94zm10 10l.94 2.06.94-2.06 2.06-.94-2.06-.94-.94-2.06-.94 2.06-2.06.94z\"/><path d=\"M17.41 7.96l-1.37-1.37c-.4-.4-.92-.59-1.43-.59-.52 0-1.04.2-1.43.59L10.3 9.45l-7.72 7.72c-.78.78-.78 2.05 0 2.83L4 21.41c.39.39.9.59 1.41.59.51 0 1.02-.2 1.41-.59l7.78-7.78 2.81-2.81c.8-.78.8-2.07 0-2.86zM5.41 20L4 18.59l7.72-7.72 1.47 1.35L5.41 20z\"/>\n",
              "  </svg>\n",
              "      </button>\n",
              "      \n",
              "  <style>\n",
              "    .colab-df-container {\n",
              "      display:flex;\n",
              "      flex-wrap:wrap;\n",
              "      gap: 12px;\n",
              "    }\n",
              "\n",
              "    .colab-df-convert {\n",
              "      background-color: #E8F0FE;\n",
              "      border: none;\n",
              "      border-radius: 50%;\n",
              "      cursor: pointer;\n",
              "      display: none;\n",
              "      fill: #1967D2;\n",
              "      height: 32px;\n",
              "      padding: 0 0 0 0;\n",
              "      width: 32px;\n",
              "    }\n",
              "\n",
              "    .colab-df-convert:hover {\n",
              "      background-color: #E2EBFA;\n",
              "      box-shadow: 0px 1px 2px rgba(60, 64, 67, 0.3), 0px 1px 3px 1px rgba(60, 64, 67, 0.15);\n",
              "      fill: #174EA6;\n",
              "    }\n",
              "\n",
              "    [theme=dark] .colab-df-convert {\n",
              "      background-color: #3B4455;\n",
              "      fill: #D2E3FC;\n",
              "    }\n",
              "\n",
              "    [theme=dark] .colab-df-convert:hover {\n",
              "      background-color: #434B5C;\n",
              "      box-shadow: 0px 1px 3px 1px rgba(0, 0, 0, 0.15);\n",
              "      filter: drop-shadow(0px 1px 2px rgba(0, 0, 0, 0.3));\n",
              "      fill: #FFFFFF;\n",
              "    }\n",
              "  </style>\n",
              "\n",
              "      <script>\n",
              "        const buttonEl =\n",
              "          document.querySelector('#df-ef990113-1e31-4fc9-a4c6-97a043bb0906 button.colab-df-convert');\n",
              "        buttonEl.style.display =\n",
              "          google.colab.kernel.accessAllowed ? 'block' : 'none';\n",
              "\n",
              "        async function convertToInteractive(key) {\n",
              "          const element = document.querySelector('#df-ef990113-1e31-4fc9-a4c6-97a043bb0906');\n",
              "          const dataTable =\n",
              "            await google.colab.kernel.invokeFunction('convertToInteractive',\n",
              "                                                     [key], {});\n",
              "          if (!dataTable) return;\n",
              "\n",
              "          const docLinkHtml = 'Like what you see? Visit the ' +\n",
              "            '<a target=\"_blank\" href=https://colab.research.google.com/notebooks/data_table.ipynb>data table notebook</a>'\n",
              "            + ' to learn more about interactive tables.';\n",
              "          element.innerHTML = '';\n",
              "          dataTable['output_type'] = 'display_data';\n",
              "          await google.colab.output.renderOutput(dataTable, element);\n",
              "          const docLink = document.createElement('div');\n",
              "          docLink.innerHTML = docLinkHtml;\n",
              "          element.appendChild(docLink);\n",
              "        }\n",
              "      </script>\n",
              "    </div>\n",
              "  </div>\n",
              "  "
            ]
          },
          "metadata": {},
          "execution_count": 8
        }
      ]
    },
    {
      "cell_type": "code",
      "source": [
        "# Setting up a heatmap to examine the correlation between variables in order to eliminate multicollinearlity\n",
        "fig,ax=plt.subplots(figsize=(6,5))\n",
        "sns.heatmap(df.corr(),annot=True)"
      ],
      "metadata": {
        "colab": {
          "base_uri": "https://localhost:8080/",
          "height": 557
        },
        "id": "r95oIWKALaBh",
        "outputId": "382b97e9-3a0b-4577-d6cf-8f7d29531e48"
      },
      "execution_count": null,
      "outputs": [
        {
          "output_type": "execute_result",
          "data": {
            "text/plain": [
              "<Axes: >"
            ]
          },
          "metadata": {},
          "execution_count": 9
        },
        {
          "output_type": "display_data",
          "data": {
            "text/plain": [
              "<Figure size 600x500 with 2 Axes>"
            ],
            "image/png": "[encoded data removed]"
          },
          "metadata": {}
        }
      ]
    },
    {
      "cell_type": "markdown",
      "source": [
        "Based on the Pearson correlation coefficient plot shown above, which illustrates the pairwise correlation between all variables in the dataset, it is apparent that the translational forces X and Z are highly correlated. The high correlation between these two variables may result in overfitting when using a machine learning model to predict either of them. Therefore, it is recommended to drop one of the highly correlated variables when predicting the other."
      ],
      "metadata": {
        "id": "1MMQDXtYQZ2N"
      }
    },
    {
      "cell_type": "markdown",
      "source": [
        "**Fitting a machine learning model to estimate: wave height, Period and relative direction from this data**"
      ],
      "metadata": {
        "id": "H06aYPzuaMaa"
      }
    },
    {
      "cell_type": "markdown",
      "source": [
        "In this section, several machine learning models were tested to estimate the significant wave height, period, and wave direction from the provided data. The translational force X was used to measure the wave frequency or period, as it is experienced by a moving boat, while the translational force Y can be used to measure the wave direction relative to the boat. Furthermore, the Z translational force can be utilized to measure significant wave height, which represents the average height of the highest one-third of waves present in the sea. Each of these three variables can be estimated by leveraging the available dataset, using appropriate machine learning algorithms."
      ],
      "metadata": {
        "id": "-SFxphGKXAKv"
      }
    },
    {
      "cell_type": "code",
      "source": [
        "from sklearn.preprocessing import MinMaxScaler,StandardScaler"
      ],
      "metadata": {
        "id": "c5nLyqaTVDON"
      },
      "execution_count": null,
      "outputs": []
    },
    {
      "cell_type": "code",
      "source": [
        "from sklearn.model_selection import train_test_split"
      ],
      "metadata": {
        "id": "FGa7wrNvecJX"
      },
      "execution_count": null,
      "outputs": []
    },
    {
      "cell_type": "code",
      "source": [
        "# Import necessary libraries\n",
        "\n",
        "from sklearn.model_selection import train_test_split\n",
        "from sklearn.preprocessing import MinMaxScaler, StandardScaler\n",
        "from sklearn.linear_model import ElasticNet\n",
        "from sklearn.tree import DecisionTreeRegressor\n",
        "from sklearn.ensemble import RandomForestRegressor\n",
        "from sklearn.svm import SVR\n",
        "from lightgbm import LGBMRegressor\n",
        "from sklearn.neighbors import KNeighborsRegressor\n",
        "from sklearn.neural_network import MLPRegressor\n",
        "from sklearn.metrics import mean_absolute_error"
      ],
      "metadata": {
        "id": "-qYbKHmec3ZF"
      },
      "execution_count": null,
      "outputs": []
    },
    {
      "cell_type": "code",
      "source": [
        "def test_regression_algorithms(X, y, scaler=None):\n",
        "    \"\"\"\n",
        "    This function tests various regression algorithms and returns the MAE for each.\n",
        "\n",
        "    Parameters:\n",
        "    X (numpy array): Input features\n",
        "    y (numpy array): Target variable\n",
        "    scaler (str): 'minmax' to use MinMaxScaler, 'standard' to use StandardScaler,\n",
        "                  or None to not scale the data (default: None)\n",
        "\n",
        "    Returns:\n",
        "    mae_dict (dict): A dictionary with the MAE for each algorithm\n",
        "    \"\"\"\n",
        "    # Split the data into training and testing sets\n",
        "    X_train, X_test, y_train, y_test = train_test_split(X, y, test_size=0.2, random_state=42)\n",
        "\n",
        "    # Scale the data if requested\n",
        "    if scaler == 'minmax':\n",
        "        scaler = MinMaxScaler()\n",
        "    elif scaler == 'standard':\n",
        "        scaler = StandardScaler()\n",
        "    else:\n",
        "        scaler = None\n",
        "    if scaler is not None:\n",
        "        X_train = scaler.fit_transform(X_train)\n",
        "        X_test = scaler.transform(X_test)\n",
        "\n",
        "    # Define the regression models\n",
        "    elastic_net_reg = ElasticNet(random_state=42)\n",
        "    decision_tree_reg = DecisionTreeRegressor(random_state=42)\n",
        "    random_forest_reg = RandomForestRegressor(random_state=42)\n",
        "    svr_reg = SVR()\n",
        "    lightgbm_reg = LGBMRegressor(random_state=42)\n",
        "    knn_reg = KNeighborsRegressor()\n",
        "    mlp_reg = MLPRegressor(random_state=42)\n",
        "\n",
        "    # Train the models on the training set\n",
        "    elastic_net_reg.fit(X_train, y_train)\n",
        "    decision_tree_reg.fit(X_train, y_train)\n",
        "    random_forest_reg.fit(X_train, y_train)\n",
        "    svr_reg.fit(X_train, y_train)\n",
        "    lightgbm_reg.fit(X_train, y_train)\n",
        "    knn_reg.fit(X_train, y_train)\n",
        "    mlp_reg.fit(X_train, y_train)\n",
        "\n",
        "    # Make predictions on the testing set\n",
        "    elastic_net_pred = elastic_net_reg.predict(X_test)\n",
        "    decision_tree_reg_pred = decision_tree_reg.predict(X_test)\n",
        "    random_forest_reg_pred = random_forest_reg.predict(X_test)\n",
        "    svr_reg_pred = svr_reg.predict(X_test)\n",
        "    lightgbm_reg_pred = lightgbm_reg.predict(X_test)\n",
        "    knn_reg_pred = knn_reg.predict(X_test)\n",
        "    mlp_reg_pred = mlp_reg.predict(X_test)\n",
        "\n",
        "    # Calculate the MAE for each model\n",
        "    elastic_net_mae = mean_absolute_error(y_test, elastic_net_pred)\n",
        "    decision_tree_reg_mae = mean_absolute_error(y_test, decision_tree_reg_pred)\n",
        "    random_forest_reg_mae = mean_absolute_error(y_test, random_forest_reg_pred)\n",
        "    svr_reg_mae = mean_absolute_error(y_test, svr_reg_pred)\n",
        "    lightgbm_reg_mae = mean_absolute_error(y_test, lightgbm_reg_pred)\n",
        "    knn_reg_mae = mean_absolute_error(y_test, knn_reg_pred)\n",
        "    mlp_reg_mae = mean_absolute_error(y_test, mlp_reg_pred)\n",
        "\n",
        "    # Store the MAE values in a dictionary\n",
        "    mae_dict = {\n",
        "        \"Elastic Net Regression\": elastic_net_mae,\n",
        "        \"Decision Tree Regression\": decision_tree_reg_mae,\n",
        "        \"Random Forest Regression\": random_forest_reg_mae,\n",
        "        \"SVR\": svr_reg_mae,\n",
        "        \"LightGBM Regression\": lightgbm_reg_mae,\n",
        "        \"KNN Regression\": knn_reg_mae,\n",
        "        \"MLP Regression\": mlp_reg_mae\n",
        "    }\n",
        "\n",
        "    return mae_dict\n"
      ],
      "metadata": {
        "id": "9cenHntVCe2w"
      },
      "execution_count": null,
      "outputs": []
    },
    {
      "cell_type": "markdown",
      "source": [
        "Testing various machine learning algorithms for regressioon by having each of the translational forces as a dependent variable is a suitable way of estimating them by using regression."
      ],
      "metadata": {
        "id": "-Q3-hnDoZPrk"
      }
    },
    {
      "cell_type": "markdown",
      "source": [
        "**Estimation of Wave Frequency or Period**"
      ],
      "metadata": {
        "id": "j1dX0X8tcSgN"
      }
    },
    {
      "cell_type": "markdown",
      "source": [
        "In this section, the function test_regression_algorithms is used to evaluate various machine learning algorithms for predicting the translational force X, which corresponds to the wave frequency or period. The goal is to determine the most suitable machine learning algorithm that exhibits the least Mean Absolute Error in predicting the wave frequency."
      ],
      "metadata": {
        "id": "CZJrcfTuZ0h5"
      }
    },
    {
      "cell_type": "code",
      "source": [
        "# Dropping the calz variable because it is highly correlated to calx to avoid overfitting\n",
        "test_regression_algorithms(df.drop(['calx','calz'],axis=1).values, df['calx'].values, scaler='minmax')"
      ],
      "metadata": {
        "colab": {
          "base_uri": "https://localhost:8080/"
        },
        "id": "HEd1uRpJDk5s",
        "outputId": "e2d021d6-4e8f-4ed0-b45b-f0ac1a231c01"
      },
      "execution_count": null,
      "outputs": [
        {
          "output_type": "execute_result",
          "data": {
            "text/plain": [
              "{'Elastic Net Regression': 0.1609863877383537,\n",
              " 'Decision Tree Regression': 0.049895350180505414,\n",
              " 'Random Forest Regression': 0.04157420678700361,\n",
              " 'SVR': 0.14585928438800352,\n",
              " 'LightGBM Regression': 0.10156396571134217,\n",
              " 'KNN Regression': 0.08480769675090254,\n",
              " 'MLP Regression': 0.15812142521932848}"
            ]
          },
          "metadata": {},
          "execution_count": 14
        }
      ]
    },
    {
      "cell_type": "code",
      "source": [
        "test_regression_algorithms(df.drop(['calx','calz'],axis=1).values,df['calx'].values, scaler='standard')"
      ],
      "metadata": {
        "colab": {
          "base_uri": "https://localhost:8080/"
        },
        "id": "VTj3yhTPDxuh",
        "outputId": "e623c8fd-64d9-44f7-8c49-bd2b80293eda"
      },
      "execution_count": null,
      "outputs": [
        {
          "output_type": "execute_result",
          "data": {
            "text/plain": [
              "{'Elastic Net Regression': 0.1609863877383537,\n",
              " 'Decision Tree Regression': 0.049892115523465695,\n",
              " 'Random Forest Regression': 0.041584789025270755,\n",
              " 'SVR': 0.14243989905971158,\n",
              " 'LightGBM Regression': 0.10180053505463807,\n",
              " 'KNN Regression': 0.08896149602888087,\n",
              " 'MLP Regression': 0.1444787371045265}"
            ]
          },
          "metadata": {},
          "execution_count": 15
        }
      ]
    },
    {
      "cell_type": "code",
      "source": [
        "test_regression_algorithms(df.drop(['calx', 'calz'], axis=1).values, df['calx'].values)\n"
      ],
      "metadata": {
        "colab": {
          "base_uri": "https://localhost:8080/"
        },
        "id": "2r2zSNUuElwl",
        "outputId": "c2adb822-b4e5-4dc9-f9c3-ebd20fb91d1d"
      },
      "execution_count": null,
      "outputs": [
        {
          "output_type": "execute_result",
          "data": {
            "text/plain": [
              "{'Elastic Net Regression': 0.1609863877383537,\n",
              " 'Decision Tree Regression': 0.04983594223826715,\n",
              " 'Random Forest Regression': 0.04158247422382671,\n",
              " 'SVR': 0.16215653590473686,\n",
              " 'LightGBM Regression': 0.10023153924671599,\n",
              " 'KNN Regression': 0.022308592057761735,\n",
              " 'MLP Regression': 0.16090568139855183}"
            ]
          },
          "metadata": {},
          "execution_count": 16
        }
      ]
    },
    {
      "cell_type": "markdown",
      "source": [
        "Based on the evaluation results obtained using the test_regression_algorithms function, the KNN regression algorithm was found to be the most suitable for predicting the wave frequency or period, with a Mean Absolute Error of 0.022308592057761735. Therefore, this algorithm will be used to estimate the wave frequency in further analyses."
      ],
      "metadata": {
        "id": "u5mi_rAhbc4s"
      }
    },
    {
      "cell_type": "markdown",
      "source": [
        "**Estimation of the Wave Direction**"
      ],
      "metadata": {
        "id": "m_dolw8hGX72"
      }
    },
    {
      "cell_type": "markdown",
      "source": [
        "The objective of this section is to evaluate different machine learning algorithms for predicting the wave direction based on the translational force y, using the test_regression_algorithms function. The primary goal is to identify the algorithm that demonstrates the least Mean Absolute Error in predicting the wave direction, thereby determining the most suitable algorithm for this task."
      ],
      "metadata": {
        "id": "1Sa9ZMtHdiqg"
      }
    },
    {
      "cell_type": "code",
      "source": [
        "test_regression_algorithms(df.drop('caly',axis=1).values,df['caly'].values)"
      ],
      "metadata": {
        "colab": {
          "base_uri": "https://localhost:8080/"
        },
        "id": "Ruz46lcgFs8M",
        "outputId": "30a3f285-904f-4af5-e316-c7850c5e981e"
      },
      "execution_count": null,
      "outputs": [
        {
          "output_type": "execute_result",
          "data": {
            "text/plain": [
              "{'Elastic Net Regression': 0.41854478546443097,\n",
              " 'Decision Tree Regression': 0.10160183393501805,\n",
              " 'Random Forest Regression': 0.09361769530685919,\n",
              " 'SVR': 0.4148409721667622,\n",
              " 'LightGBM Regression': 0.22494723616077586,\n",
              " 'KNN Regression': 0.03444467581227437,\n",
              " 'MLP Regression': 0.5816501109815007}"
            ]
          },
          "metadata": {},
          "execution_count": 28
        }
      ]
    },
    {
      "cell_type": "code",
      "source": [
        "test_regression_algorithms(df.drop(['caly'],axis=1).values,df['caly'].values,scaler='minmax')"
      ],
      "metadata": {
        "colab": {
          "base_uri": "https://localhost:8080/"
        },
        "id": "HkDxym7yG6JY",
        "outputId": "83f09d8c-9ff6-4190-d7da-46ac06418c0a"
      },
      "execution_count": null,
      "outputs": [
        {
          "output_type": "stream",
          "name": "stderr",
          "text": [
            "/usr/local/lib/python3.9/dist-packages/sklearn/neural_network/_multilayer_perceptron.py:686: ConvergenceWarning: Stochastic Optimizer: Maximum iterations (200) reached and the optimization hasn't converged yet.\n",
            "  warnings.warn(\n"
          ]
        },
        {
          "output_type": "execute_result",
          "data": {
            "text/plain": [
              "{'Elastic Net Regression': 0.42071051585913694,\n",
              " 'Decision Tree Regression': 0.10163913357400722,\n",
              " 'Random Forest Regression': 0.09361586902527075,\n",
              " 'SVR': 0.2997734209938529,\n",
              " 'LightGBM Regression': 0.22362383513214237,\n",
              " 'KNN Regression': 0.12440729241877256,\n",
              " 'MLP Regression': 0.34558592764668095}"
            ]
          },
          "metadata": {},
          "execution_count": 29
        }
      ]
    },
    {
      "cell_type": "code",
      "source": [
        "test_regression_algorithms(df.drop(['caly'],axis=1).values,df['caly'].values,scaler='standard')"
      ],
      "metadata": {
        "colab": {
          "base_uri": "https://localhost:8080/"
        },
        "id": "8X34rDhsHXCM",
        "outputId": "ea1bdb52-1fb4-4c3a-b183-e9d4ca0734e6"
      },
      "execution_count": null,
      "outputs": [
        {
          "output_type": "stream",
          "name": "stderr",
          "text": [
            "/usr/local/lib/python3.9/dist-packages/sklearn/neural_network/_multilayer_perceptron.py:686: ConvergenceWarning: Stochastic Optimizer: Maximum iterations (200) reached and the optimization hasn't converged yet.\n",
            "  warnings.warn(\n"
          ]
        },
        {
          "output_type": "execute_result",
          "data": {
            "text/plain": [
              "{'Elastic Net Regression': 0.42071051585913694,\n",
              " 'Decision Tree Regression': 0.10140879422382672,\n",
              " 'Random Forest Regression': 0.09362147465703971,\n",
              " 'SVR': 0.2884177572161746,\n",
              " 'LightGBM Regression': 0.22323338734225465,\n",
              " 'KNN Regression': 0.14191267003610109,\n",
              " 'MLP Regression': 0.29624589117223404}"
            ]
          },
          "metadata": {},
          "execution_count": 30
        }
      ]
    },
    {
      "cell_type": "markdown",
      "source": [
        "After conducting evaluations using the test_regression_algorithms function, it was determined that the KNN regression algorithm is the most appropriate for predicting the wave direction. The algorithm exhibited the lowest Mean Absolute Error, which was measured at 0.03444467581227437. As a result, this algorithm will be utilized for further analyses related to estimating the wave direction."
      ],
      "metadata": {
        "id": "MgDHrYkneRWD"
      }
    },
    {
      "cell_type": "markdown",
      "source": [
        "**Estimation of Significant wave height (Hs)**\n",
        "\n",
        "\n"
      ],
      "metadata": {
        "id": "VeTs5_gfhAi4"
      }
    },
    {
      "cell_type": "markdown",
      "source": [
        "The purpose of this section is to assess a range of machine learning algorithms that can predict the significant wave height (HS) based on the translational force y, using the test_regression_algorithms function. The main aim is to find the algorithm that has the lowest Mean Absolute Error in predicting the wave direction. By doing so, we can determine the most appropriate algorithm to use for this task."
      ],
      "metadata": {
        "id": "fOnxgsyihhXA"
      }
    },
    {
      "cell_type": "code",
      "source": [
        "test_regression_algorithms(df.drop(['calx','calz'],axis=1).values,df['calz'].values,scaler='minmax')"
      ],
      "metadata": {
        "colab": {
          "base_uri": "https://localhost:8080/"
        },
        "id": "-w7SVALUJkfK",
        "outputId": "8a2d0a90-3798-4303-ae0a-6aba3e379265"
      },
      "execution_count": null,
      "outputs": [
        {
          "output_type": "execute_result",
          "data": {
            "text/plain": [
              "{'Elastic Net Regression': 0.29156758617074086,\n",
              " 'Decision Tree Regression': 0.08173842599277978,\n",
              " 'Random Forest Regression': 0.07766593371841156,\n",
              " 'SVR': 0.2158934319299879,\n",
              " 'LightGBM Regression': 0.15980981166030675,\n",
              " 'KNN Regression': 0.11614939205776174,\n",
              " 'MLP Regression': 0.2507528480037156}"
            ]
          },
          "metadata": {},
          "execution_count": 20
        }
      ]
    },
    {
      "cell_type": "code",
      "source": [
        "test_regression_algorithms(df.drop(['calx','calz'],axis=1).values,df['calz'].values,scaler='standard')"
      ],
      "metadata": {
        "colab": {
          "base_uri": "https://localhost:8080/"
        },
        "id": "znLCNVPmKBEk",
        "outputId": "d7a15c15-151b-4bc3-9c9a-4997fcefa25f"
      },
      "execution_count": null,
      "outputs": [
        {
          "output_type": "execute_result",
          "data": {
            "text/plain": [
              "{'Elastic Net Regression': 0.29156758617074086,\n",
              " 'Decision Tree Regression': 0.08172102527075813,\n",
              " 'Random Forest Regression': 0.07764919898916967,\n",
              " 'SVR': 0.21259308018051826,\n",
              " 'LightGBM Regression': 0.15709465246707072,\n",
              " 'KNN Regression': 0.12347402166064982,\n",
              " 'MLP Regression': 0.2218843264325281}"
            ]
          },
          "metadata": {},
          "execution_count": 21
        }
      ]
    },
    {
      "cell_type": "code",
      "source": [
        "test_regression_algorithms(df.drop(['calx','calz'],axis=1).values,df['calz'].values)"
      ],
      "metadata": {
        "colab": {
          "base_uri": "https://localhost:8080/"
        },
        "outputId": "609b1725-1f5c-4aab-e048-a73fb70a257e",
        "id": "UYfuIGjYe5-t"
      },
      "execution_count": null,
      "outputs": [
        {
          "output_type": "execute_result",
          "data": {
            "text/plain": [
              "{'Elastic Net Regression': 0.29157670097158794,\n",
              " 'Decision Tree Regression': 0.08179490252707582,\n",
              " 'Random Forest Regression': 0.07766301227436824,\n",
              " 'SVR': 0.2945173751101304,\n",
              " 'LightGBM Regression': 0.15720911738557983,\n",
              " 'KNN Regression': 0.0341532678700361,\n",
              " 'MLP Regression': 0.2883821886406147}"
            ]
          },
          "metadata": {},
          "execution_count": 22
        }
      ]
    },
    {
      "cell_type": "markdown",
      "source": [
        "After conducting evaluations using the test_regression_algorithms function, it was determined that the KNN regression algorithm is the most appropriate for predicting the wave height(Hs). The algorithm exhibited the lowest Mean Absolute Error, which was measured at 0.0341532678700361. As a result, this algorithm will be utilized for further analyses related to estimating the wave direction."
      ],
      "metadata": {
        "id": "XGsYnpIbhlo9"
      }
    },
    {
      "cell_type": "markdown",
      "source": [
        "**Conclusion**\n",
        "\n",
        "After testing several machine learning algorithms for estimating wave height, period, and relative direction, the KNN regression algorithm was found to be the most suitable for estimating the three translational forces. To achieve the best estimation results, a function that fits a KNN regression algorithm and tunes the hyperparameters of the KNN regression model is recommended. This approach provides the most convenient way for estimating the three translational forces."
      ],
      "metadata": {
        "id": "AvMqF-huh7C6"
      }
    },
    {
      "cell_type": "code",
      "source": [
        "def fit_knn_algorithm(X, y):\n",
        "    \"\"\"\n",
        "    This function tests the KNN regression algorithm with default parameters and\n",
        "    MinMaxScaler, and returns the MAE.\n",
        "\n",
        "    Parameters:\n",
        "    X (numpy array): Input features\n",
        "    y (numpy array): Target variable\n",
        "\n",
        "    Returns:\n",
        "    knn_reg_mae (float): Mean absolute error of the KNN regressor\n",
        "    \"\"\"\n",
        "    # Split the data into training and testing sets\n",
        "    X_train, X_test, y_train, y_test = train_test_split(X, y, test_size=0.2, random_state=42)\n",
        "\n",
        "    # Scale the data using MinMaxScaler\n",
        "    scaler = MinMaxScaler()\n",
        "    X_train = scaler.fit_transform(X_train)\n",
        "    X_test = scaler.transform(X_test)\n",
        "\n",
        "    # Define the KNN regressor with default parameters\n",
        "    knn_reg = KNeighborsRegressor()\n",
        "    knn_reg.fit(X_train, y_train)\n",
        "\n",
        "    # Make predictions on the testing set\n",
        "    knn_reg_pred = knn_reg.predict(X_test)\n",
        "\n",
        "    # Calculate the MAE for the KNN regressor\n",
        "    knn_reg_mae = mean_absolute_error(y_test, knn_reg_pred)\n",
        "\n",
        "    return knn_reg_mae"
      ],
      "metadata": {
        "id": "a2RCpbEgaMrD"
      },
      "execution_count": null,
      "outputs": []
    },
    {
      "cell_type": "code",
      "source": [
        "fit_knn_algorithm(df.drop(['calx','calz'],axis=1).values,df['calz'].values)"
      ],
      "metadata": {
        "colab": {
          "base_uri": "https://localhost:8080/"
        },
        "id": "dORx1LLu12bE",
        "outputId": "0dfce291-e213-429f-dc0f-2b84e24f39dc"
      },
      "execution_count": null,
      "outputs": [
        {
          "output_type": "execute_result",
          "data": {
            "text/plain": [
              "0.11614939205776174"
            ]
          },
          "metadata": {},
          "execution_count": 24
        }
      ]
    },
    {
      "cell_type": "code",
      "source": [
        "from sklearn.model_selection import GridSearchCV\n",
        "from sklearn.pipeline import Pipeline\n",
        "from sklearn.neighbors import KNeighborsRegressor\n",
        "\n",
        "def fit_knn_algorithm(X, y):\n",
        "    \"\"\"\n",
        "    This function tests the KNN regression algorithm with various parameters using\n",
        "    GridSearchCV, and returns the MAE and the best parameters.\n",
        "\n",
        "    Parameters:\n",
        "    X (numpy array): Input features\n",
        "    y (numpy array): Target variable\n",
        "\n",
        "    Returns:\n",
        "    knn_reg_mae (float): Mean absolute error of the KNN regressor with best parameters\n",
        "    best_params (dict): The best parameters found by GridSearchCV\n",
        "    \"\"\"\n",
        "    # Split the data into training and testing sets\n",
        "    X_train, X_test, y_train, y_test = train_test_split(X, y, test_size=0.2, random_state=42)\n",
        "\n",
        "    # Define the pipeline with KNN regressor and without scaling\n",
        "    pipeline = Pipeline([\n",
        "        ('knn', KNeighborsRegressor())\n",
        "    ])\n",
        "\n",
        "    # Define the parameter grid for GridSearchCV\n",
        "    param_grid = {\n",
        "        'knn__n_neighbors': [2, 3, 4, 5, 6, 7, 8, 9, 10],\n",
        "        'knn__weights': ['uniform', 'distance'],\n",
        "        'knn__p': [1, 2]\n",
        "    }\n",
        "\n",
        "    # Define the GridSearchCV with 10-fold cross-validation\n",
        "    grid_search = GridSearchCV(pipeline, param_grid, cv=10)\n",
        "\n",
        "    # Fit the GridSearchCV on the training data\n",
        "    grid_search.fit(X_train, y_train)\n",
        "\n",
        "    # Make predictions on the testing set using the best estimator\n",
        "    knn_reg_pred = grid_search.best_estimator_.predict(X_test)\n",
        "\n",
        "    # Calculate the MAE for the KNN regressor with best parameters\n",
        "    knn_reg_mae = mean_absolute_error(y_test, knn_reg_pred)\n",
        "\n",
        "    # Get the best parameters found by GridSearchCV\n",
        "    best_params = grid_search.best_params_\n",
        "\n",
        "    return knn_reg_mae, best_params\n"
      ],
      "metadata": {
        "id": "nMKdZtxA2YJf"
      },
      "execution_count": null,
      "outputs": []
    },
    {
      "cell_type": "code",
      "source": [
        "# Fitting the KNN regression algorithm to predict the significant wave height\n",
        "fit_knn_algorithm(df.drop(['calx','calz'],axis=1).values,df['calz'].values)"
      ],
      "metadata": {
        "colab": {
          "base_uri": "https://localhost:8080/"
        },
        "id": "pQ_GSWhy7yd6",
        "outputId": "d7e2fba7-3bcf-43a1-bead-a231b09a9f51"
      },
      "execution_count": null,
      "outputs": [
        {
          "output_type": "execute_result",
          "data": {
            "text/plain": [
              "(0.024908154442152396,\n",
              " {'knn__n_neighbors': 4, 'knn__p': 1, 'knn__weights': 'distance'})"
            ]
          },
          "metadata": {},
          "execution_count": 26
        }
      ]
    },
    {
      "cell_type": "code",
      "source": [
        "# Fitting the KNN regression algorithm to predict the wave direction\n",
        "fit_knn_algorithm(df.drop('caly',axis=1).values,df['caly'].values)"
      ],
      "metadata": {
        "colab": {
          "base_uri": "https://localhost:8080/"
        },
        "id": "npip46-Frrii",
        "outputId": "af7f2b43-c4ea-49fd-af19-68c0d8f6b697"
      },
      "execution_count": null,
      "outputs": [
        {
          "output_type": "execute_result",
          "data": {
            "text/plain": [
              "(0.026902932918838687,\n",
              " {'knn__n_neighbors': 3, 'knn__p': 1, 'knn__weights': 'distance'})"
            ]
          },
          "metadata": {},
          "execution_count": 31
        }
      ]
    },
    {
      "cell_type": "code",
      "source": [
        "# Fitting the KNN regression algorithm to predict the wave frequency or period\n",
        "fit_knn_algorithm(df.drop(['calx','calz'],axis=1).values,df['calx'].values)"
      ],
      "metadata": {
        "colab": {
          "base_uri": "https://localhost:8080/"
        },
        "id": "RF1amJRfrr1U",
        "outputId": "45ac3aaa-0050-4693-810e-c53b68f3fe46"
      },
      "execution_count": null,
      "outputs": [
        {
          "output_type": "execute_result",
          "data": {
            "text/plain": [
              "(0.01813074721533044,\n",
              " {'knn__n_neighbors': 4, 'knn__p': 1, 'knn__weights': 'distance'})"
            ]
          },
          "metadata": {},
          "execution_count": 33
        }
      ]
    },
    {
      "cell_type": "code",
      "source": [],
      "metadata": {
        "id": "th7QKtB5s5s3"
      },
      "execution_count": null,
      "outputs": []
    }
  ]
}